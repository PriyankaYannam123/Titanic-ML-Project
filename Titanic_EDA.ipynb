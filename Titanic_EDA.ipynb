{
 "cells": [
  {
   "cell_type": "code",
   "execution_count": null,
   "metadata": {
    "vscode": {
     "languageId": "plaintext"
    }
   },
   "outputs": [],
   "source": [
    "# Titanic EDA\n",
    "\n",
    "# Importing Libraries\n",
    "import pandas as pd\n",
    "import numpy as np\n",
    "import seaborn as sns\n",
    "import matplotlib.pyplot as plt\n",
    "\n",
    "# Loading the Dataset\n",
    "df = pd.read_csv('data/titanic.csv')\n",
    "\n",
    "# Checking for missing values\n",
    "print(df.isnull().sum())\n",
    "\n",
    "# Visualizing the distribution of passengers' survival\n",
    "sns.countplot(x='Survived', data=df)\n",
    "plt.title('Survival Distribution')\n",
    "plt.show()\n",
    "\n",
    "# Descriptive Statistics\n",
    "print(df.describe())\n",
    "\n",
    "# Visualizing Age distribution\n",
    "sns.histplot(df['Age'].dropna(), kde=True)\n",
    "plt.title('Age Distribution')\n",
    "plt.show()\n",
    "\n",
    "# Correlation Matrix\n",
    "correlation = df.corr()\n",
    "sns.heatmap(correlation, annot=True, cmap='coolwarm')\n",
    "plt.title('Correlation Matrix')\n",
    "plt.show()\n",
    "\n",
    "# Data Cleaning (handling missing values)\n",
    "df['Age'].fillna(df['Age'].mean(), inplace=True)\n",
    "df['Embarked'].fillna(df['Embarked'].mode()[0], inplace=True)\n",
    "\n",
    "# One-Hot Encoding for Categorical Features\n",
    "df = pd.get_dummies(df, columns=['Sex', 'Embarked'], drop_first=True)\n",
    "\n",
    "# Saving the cleaned dataset\n",
    "df.to_csv('data/titanic_cleaned.csv', index=False)\n"
   ]
  }
 ],
 "metadata": {
  "language_info": {
   "name": "python"
  }
 },
 "nbformat": 4,
 "nbformat_minor": 2
}
